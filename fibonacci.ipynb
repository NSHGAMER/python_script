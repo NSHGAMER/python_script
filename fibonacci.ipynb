{
 "cells": [
  {
   "cell_type": "code",
   "execution_count": 3,
   "id": "f7f3f8c0-8860-468d-8b53-3d2ae4383036",
   "metadata": {},
   "outputs": [
    {
     "name": "stdin",
     "output_type": "stream",
     "text": [
      "Enter the number of terms:  9\n"
     ]
    },
    {
     "name": "stdout",
     "output_type": "stream",
     "text": [
      "Fibonacci series: [0, 1, 1, 2, 3, 5, 8, 13, 21]\n"
     ]
    }
   ],
   "source": [
    "def fibonacci(n):\n",
    "    fib_series = []\n",
    "    a, b = 0, 1\n",
    "    for _ in range(n):\n",
    "        fib_series.append(a)\n",
    "        a, b = b, a + b\n",
    "    return fib_series\n",
    "terms = int(input(\"Enter the number of terms: \"))\n",
    "\n",
    "if terms <= 0:\n",
    "    print(\"Please enter a positive integer.\")\n",
    "else:\n",
    "    series = fibonacci(terms)\n",
    "    print(\"Fibonacci series:\", series)"
   ]
  },
  {
   "cell_type": "code",
   "execution_count": null,
   "id": "a1a8aa2c-2539-4286-bf42-447816367d13",
   "metadata": {},
   "outputs": [],
   "source": []
  }
 ],
 "metadata": {
  "kernelspec": {
   "display_name": "Python [conda env:base] *",
   "language": "python",
   "name": "conda-base-py"
  },
  "language_info": {
   "codemirror_mode": {
    "name": "ipython",
    "version": 3
   },
   "file_extension": ".py",
   "mimetype": "text/x-python",
   "name": "python",
   "nbconvert_exporter": "python",
   "pygments_lexer": "ipython3",
   "version": "3.12.7"
  }
 },
 "nbformat": 4,
 "nbformat_minor": 5
}
